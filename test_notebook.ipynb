{
 "cells": [
  {
   "cell_type": "markdown",
   "metadata": {},
   "source": [
    "# test notebook title"
   ]
  },
  {
   "cell_type": "code",
   "execution_count": 2,
   "metadata": {},
   "outputs": [
    {
     "name": "stdout",
     "output_type": "stream",
     "text": [
      "test notebook code cell\n"
     ]
    }
   ],
   "source": [
    "print(\"test notebook code cell\")"
   ]
  },
  {
   "cell_type": "code",
   "execution_count": 1,
   "metadata": {
    "tags": []
   },
   "outputs": [
    {
     "output_type": "stream",
     "name": "stdout",
     "text": "Writing test_out.txt\n"
    }
   ],
   "source": [
    "%%writefile test_out.txt\n",
    "{\n",
    "  \"key1\": [\n",
    "    {\n",
    "      \"key11\": {\n",
    "        \"key111\": 111,\n",
    "        \"key112\": 112\n",
    "      }\n",
    "    },\n",
    "    {\n",
    "      \"key12\": {\n",
    "        \"key121\": 121,\n",
    "        \"key122\": 122\n",
    "      }\n",
    "    }\n",
    "  ]\n",
    "}"
   ]
  }
 ],
 "metadata": {
  "language_info": {
   "codemirror_mode": {
    "name": "ipython",
    "version": 3
   },
   "file_extension": ".py",
   "mimetype": "text/x-python",
   "name": "python",
   "nbconvert_exporter": "python",
   "pygments_lexer": "ipython3",
   "version": "3.8.3-final"
  }
 },
 "nbformat": 4,
 "nbformat_minor": 4
}
